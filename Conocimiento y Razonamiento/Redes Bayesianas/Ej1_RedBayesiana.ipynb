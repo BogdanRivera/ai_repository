{
  "cells": [
    {
      "cell_type": "markdown",
      "metadata": {
        "id": "MSLC5QIolLPk"
      },
      "source": [
        "# Generación de muestras a partir del modelo de una red bayesiana\n",
        "### Bogdan Kaleb García Rivera \n",
        "\\\n",
        "Diseñe e implemente un programa en el que utilizando los parámetros de una Red Bayesiana (estructura y probabilidades condicionales especificados en clase) así como un generador de valores aleatorios con distribución uniforme genere un conjunto de instancias de las variables y posteriormente las cuantifique para verificar a parir de los datos se pueden obtener los parámetros del modelo. Generar una cantidad \"adecuada\" de observaciones, datos, de tal manera que al cuantificar los valores de probabilidad estos se aproximen lo más posible a los valores de probabilidad establecidos en el modelo."
      ]
    },
    {
      "cell_type": "markdown",
      "metadata": {
        "id": "q4a1Abz1lVoq"
      },
      "source": [
        "### 1) Generar instancias de las variables y cuantificar cuantos realizaciones de cada posible valores del conjunto de variables se obtuvieron."
      ]
    },
    {
      "cell_type": "code",
      "execution_count": null,
      "metadata": {
        "colab": {
          "base_uri": "https://localhost:8080/"
        },
        "id": "hEZ4ePt1qTrr",
        "outputId": "a5c49e63-b07f-431c-f37a-f6e413c5dd20"
      },
      "outputs": [
        {
          "name": "stdout",
          "output_type": "stream",
          "text": [
            "[X1 X2 X3]\n",
            "(0, 0, 0) 782\n",
            "(0, 0, 1) 7264\n",
            "(0, 1, 0) 3269\n",
            "(0, 1, 1) 28881\n",
            "(1, 0, 0) 7200\n",
            "(1, 0, 1) 4809\n",
            "(1, 1, 0) 28935\n",
            "(1, 1, 1) 18860\n"
          ]
        }
      ],
      "source": [
        "import random\n",
        "def genera_aleatorios(longitud = 1000):\n",
        "  estados = [(0,0,0), (0,0,1), (0,1,0), (0,1,1), (1,0,0), (1,0,1), (1,1,0), (1,1,1)]\n",
        "  cuenta_estados = [0,0,0,0,0,0,0,0]\n",
        "  for i in range(longitud):\n",
        "    x1 = random.random()\n",
        "    x2 = random.random()\n",
        "    x3 = random.random()\n",
        "\n",
        "    if x1 <= 0.4:\n",
        "      x1 = 0\n",
        "    else:\n",
        "      x1 = 1\n",
        "\n",
        "    if x2 <= 0.2:\n",
        "      x2 = 0\n",
        "    else:\n",
        "      x2 = 1\n",
        "\n",
        "    if x1 == 0:\n",
        "      if x3 <= 0.1:\n",
        "        x3 = 0\n",
        "      else:\n",
        "        x3 = 1\n",
        "    else:\n",
        "      if x3 <= 0.6:\n",
        "        x3 = 0\n",
        "      else:\n",
        "        x3 = 1\n",
        "    edo = (x1,x2,x3)\n",
        "    indice = estados.index(edo)\n",
        "    cuenta_estados[indice] += 1\n",
        "  return(cuenta_estados), estados\n",
        "\n",
        "cuenta_edos,estados = genera_aleatorios(longitud=100000)\n",
        "print(\"[X1 X2 X3]\")\n",
        "for i in range(len(estados)):\n",
        "  print(estados[i], cuenta_edos[i])"
      ]
    },
    {
      "cell_type": "markdown",
      "metadata": {
        "id": "KMguIbK1qdWb"
      },
      "source": [
        "## 2) A partir de las cantidades obtenidas en el punto anterior determinar las probabilidades condicionales del modelo.\n"
      ]
    },
    {
      "cell_type": "code",
      "execution_count": null,
      "metadata": {
        "colab": {
          "base_uri": "https://localhost:8080/"
        },
        "id": "4LFfo4gyqxvD",
        "outputId": "80370596-250a-416d-8a77-5c08b510f945"
      },
      "outputs": [
        {
          "name": "stdout",
          "output_type": "stream",
          "text": [
            "P(X3=0 | X1=0): 0.10078117225594586\n",
            "P(X3=1 | X1=0): 0.8992188277440541\n",
            "P(X3=0 | X1=1): 0.6042237977392817\n",
            "P(X3=1 | X1=1): 0.39577620226071836\n"
          ]
        }
      ],
      "source": [
        "# P(X3=0 | X1=0)\n",
        "cuenta_x1_0 = sum(cuenta_edos[i] for i in range(len(estados)) if estados[i][0] == 0)\n",
        "cuenta_x1_0_x3_0 = sum(cuenta_edos[i] for i in range(len(estados)) if estados[i][0] == 0 and estados[i][2] == 0)\n",
        "p_x3_0_dado_x1_0 = cuenta_x1_0_x3_0 / cuenta_x1_0\n",
        "print(\"P(X3=0 | X1=0):\", p_x3_0_dado_x1_0)\n",
        "\n",
        "# P(X3=1 | X1=0)\n",
        "cuenta_x1_0_x3_1 = sum(cuenta_edos[i] for i in range(len(estados)) if estados[i][0] == 0 and estados[i][2] == 1)\n",
        "p_x3_1_dado_x1_0 = cuenta_x1_0_x3_1 / cuenta_x1_0\n",
        "print(\"P(X3=1 | X1=0):\", p_x3_1_dado_x1_0)\n",
        "\n",
        "\n",
        "# P(X3=0 | X1=1)\n",
        "cuenta_x1_1 = sum(cuenta_edos[i] for i in range(len(estados)) if estados[i][0] == 1)\n",
        "cuenta_x1_1_x3_0 = sum(cuenta_edos[i] for i in range(len(estados)) if estados[i][0] == 1 and estados[i][2] == 0)\n",
        "p_x3_0_dado_x1_1 = cuenta_x1_1_x3_0 / cuenta_x1_1\n",
        "print(\"P(X3=0 | X1=1):\", p_x3_0_dado_x1_1)\n",
        "\n",
        "# P(X3=1 | X1=1)\n",
        "cuenta_x1_1_x3_1 = sum(cuenta_edos[i] for i in range(len(estados)) if estados[i][0] == 1 and estados[i][2] == 1)\n",
        "p_x3_1_dado_x1_1 = cuenta_x1_1_x3_1 / cuenta_x1_1\n",
        "print(\"P(X3=1 | X1=1):\", p_x3_1_dado_x1_1)\n",
        "\n"
      ]
    },
    {
      "cell_type": "markdown",
      "metadata": {
        "id": "ik_b868cqlMK"
      },
      "source": [
        "## 3) Comparar los resultados del punto anterior con los parámetros del modelo. ¿Cuántas realizaciones se utilizaron?\n",
        "\n",
        "De acuerdo al modelo sugerido con sus probabilidades, los valores fueron sumamente cercanos a lo teórico (0.1, 0.9, 0.6, 0.4 respectivamente). Se inició el proceso realizando únicamente 10 muestras y de ahí se agregaban potencias de 10, es decir 100, 1000, 10000 muestras, comportandose mejor a partir de 1000 muestras. El último resultado se realizó con 100,000 muestras, obteniendo probabilidades muy cercanas a lo que dicta la teoría.  "
      ]
    },
    {
      "cell_type": "markdown",
      "metadata": {
        "id": "kdgNmhU0tzKI"
      },
      "source": [
        "## 4) ¿Cómo podría utilizar estos resultados para determinar la estructura de una Red Bayesiana?\n",
        "\n",
        "Para determinar la estructura de la red bayesiana se puede realizar el cálculo de las probabilidades dada ciertas variables. Por ejemplo, se puede realizar la probabilidad de X1 con respecto de X2 y se debe verificar que sus probabilidades son independientes. Esto se logra realizando un cálculo de cada una de las probabilidades de las variables y multiplicándolas, dando como resultado algo cercano a la probabilidad teórica. Por ejemplo\n",
        "\n",
        "$$P(X1=0, X2=0) ≈ 0.4 * 0.2 = 0.08 $$\n",
        "\n",
        "Si se hace el cálculo de todos los datos y se realiza de forma empírica, la probabilidad debería ser cercana a 0.08.\n",
        "\n",
        "Ese proceso se puede realizar para cada una de las variables. De igual forma, para determinar si es dependiente se puede realizar el mismo procedimiento con las variables pero ahora con dependencia, es decir:\n",
        "\n",
        "$$P(X,Y|Z) \\neq P(X|Z) \\cdot P(Y|Z).$$\n",
        "\n",
        "Si cumple con lo anterior entonces se puede decir que es un grafo conectado en esos dos puntos (X1 y X3)."
      ]
    }
  ],
  "metadata": {
    "colab": {
      "provenance": []
    },
    "kernelspec": {
      "display_name": "Python 3",
      "name": "python3"
    },
    "language_info": {
      "name": "python"
    }
  },
  "nbformat": 4,
  "nbformat_minor": 0
}
