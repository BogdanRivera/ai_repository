{
 "cells": [
  {
   "cell_type": "code",
   "execution_count": 1,
   "id": "c8495d51",
   "metadata": {},
   "outputs": [],
   "source": [
    "import os \n",
    "import pandas as pd \n",
    "\n",
    "route = \"./data\"\n",
    "directions = os.listdir(route)\n",
    "files = []\n",
    "pandas_files = []\n",
    "for direction in directions: \n",
    "    if direction.endswith(\".csv\"):\n",
    "        files.append(route+'/'+direction)\n",
    "\n",
    "\n",
    "for file in files: \n",
    "    archive = pd.read_csv(file)\n",
    "    pandas_files.append(archive)"
   ]
  },
  {
   "cell_type": "code",
   "execution_count": 2,
   "id": "73f030d9",
   "metadata": {},
   "outputs": [
    {
     "name": "stdout",
     "output_type": "stream",
     "text": [
      "Tamaño del dataset:  (260916, 42)\n"
     ]
    },
    {
     "data": {
      "text/html": [
       "<div>\n",
       "<style scoped>\n",
       "    .dataframe tbody tr th:only-of-type {\n",
       "        vertical-align: middle;\n",
       "    }\n",
       "\n",
       "    .dataframe tbody tr th {\n",
       "        vertical-align: top;\n",
       "    }\n",
       "\n",
       "    .dataframe thead th {\n",
       "        text-align: right;\n",
       "    }\n",
       "</style>\n",
       "<table border=\"1\" class=\"dataframe\">\n",
       "  <thead>\n",
       "    <tr style=\"text-align: right;\">\n",
       "      <th></th>\n",
       "      <th>backers_count</th>\n",
       "      <th>blurb</th>\n",
       "      <th>category</th>\n",
       "      <th>converted_pledged_amount</th>\n",
       "      <th>country</th>\n",
       "      <th>country_displayable_name</th>\n",
       "      <th>created_at</th>\n",
       "      <th>creator</th>\n",
       "      <th>currency</th>\n",
       "      <th>currency_symbol</th>\n",
       "      <th>...</th>\n",
       "      <th>spotlight</th>\n",
       "      <th>staff_pick</th>\n",
       "      <th>state</th>\n",
       "      <th>state_changed_at</th>\n",
       "      <th>static_usd_rate</th>\n",
       "      <th>urls</th>\n",
       "      <th>usd_exchange_rate</th>\n",
       "      <th>usd_pledged</th>\n",
       "      <th>usd_type</th>\n",
       "      <th>video</th>\n",
       "    </tr>\n",
       "  </thead>\n",
       "  <tbody>\n",
       "    <tr>\n",
       "      <th>0</th>\n",
       "      <td>5</td>\n",
       "      <td>Our studio is recreating the magic of live act...</td>\n",
       "      <td>{\"id\":296,\"name\":\"Fantasy\",\"analytics_name\":\"F...</td>\n",
       "      <td>111.0</td>\n",
       "      <td>US</td>\n",
       "      <td>the United States</td>\n",
       "      <td>1480228717</td>\n",
       "      <td>{\"id\":982903897,\"name\":\"Kip Legaard\",\"is_regis...</td>\n",
       "      <td>USD</td>\n",
       "      <td>$</td>\n",
       "      <td>...</td>\n",
       "      <td>False</td>\n",
       "      <td>False</td>\n",
       "      <td>failed</td>\n",
       "      <td>1490669054</td>\n",
       "      <td>1.0</td>\n",
       "      <td>{\"web\":{\"project\":\"https://www.kickstarter.com...</td>\n",
       "      <td>1.0</td>\n",
       "      <td>111.0</td>\n",
       "      <td>domestic</td>\n",
       "      <td>{\"id\":754346,\"status\":\"successful\",\"hls\":null,...</td>\n",
       "    </tr>\n",
       "    <tr>\n",
       "      <th>1</th>\n",
       "      <td>14</td>\n",
       "      <td>We bring music to small and rural communities ...</td>\n",
       "      <td>{\"id\":36,\"name\":\"Classical Music\",\"analytics_n...</td>\n",
       "      <td>2095.0</td>\n",
       "      <td>US</td>\n",
       "      <td>the United States</td>\n",
       "      <td>1304528160</td>\n",
       "      <td>{\"id\":15712989,\"name\":\"Washington's Camerata\",...</td>\n",
       "      <td>USD</td>\n",
       "      <td>$</td>\n",
       "      <td>...</td>\n",
       "      <td>True</td>\n",
       "      <td>False</td>\n",
       "      <td>successful</td>\n",
       "      <td>1312307333</td>\n",
       "      <td>1.0</td>\n",
       "      <td>{\"web\":{\"project\":\"https://www.kickstarter.com...</td>\n",
       "      <td>1.0</td>\n",
       "      <td>2095.0</td>\n",
       "      <td>domestic</td>\n",
       "      <td>{\"id\":34838,\"status\":\"successful\",\"hls\":null,\"...</td>\n",
       "    </tr>\n",
       "    <tr>\n",
       "      <th>2</th>\n",
       "      <td>21</td>\n",
       "      <td>A live performance and recording of Frank La R...</td>\n",
       "      <td>{\"id\":36,\"name\":\"Classical Music\",\"analytics_n...</td>\n",
       "      <td>1790.0</td>\n",
       "      <td>US</td>\n",
       "      <td>the United States</td>\n",
       "      <td>1304030379</td>\n",
       "      <td>{\"id\":528561520,\"name\":\"Composers, Inc.\",\"is_r...</td>\n",
       "      <td>USD</td>\n",
       "      <td>$</td>\n",
       "      <td>...</td>\n",
       "      <td>True</td>\n",
       "      <td>False</td>\n",
       "      <td>successful</td>\n",
       "      <td>1308692950</td>\n",
       "      <td>1.0</td>\n",
       "      <td>{\"web\":{\"project\":\"https://www.kickstarter.com...</td>\n",
       "      <td>1.0</td>\n",
       "      <td>1790.0</td>\n",
       "      <td>domestic</td>\n",
       "      <td>NaN</td>\n",
       "    </tr>\n",
       "    <tr>\n",
       "      <th>3</th>\n",
       "      <td>0</td>\n",
       "      <td>A dice tray designed to keep your dice, minis,...</td>\n",
       "      <td>{\"id\":34,\"name\":\"Tabletop Games\",\"analytics_na...</td>\n",
       "      <td>NaN</td>\n",
       "      <td>AU</td>\n",
       "      <td>Australia</td>\n",
       "      <td>1735360463</td>\n",
       "      <td>{\"id\":1501411668,\"name\":\"Sphinx Stationery\",\"s...</td>\n",
       "      <td>AUD</td>\n",
       "      <td>$</td>\n",
       "      <td>...</td>\n",
       "      <td>False</td>\n",
       "      <td>False</td>\n",
       "      <td>submitted</td>\n",
       "      <td>1735617155</td>\n",
       "      <td>0.0</td>\n",
       "      <td>{\"web\":{\"project\":\"https://www.kickstarter.com...</td>\n",
       "      <td>NaN</td>\n",
       "      <td>NaN</td>\n",
       "      <td>domestic</td>\n",
       "      <td>NaN</td>\n",
       "    </tr>\n",
       "    <tr>\n",
       "      <th>4</th>\n",
       "      <td>29</td>\n",
       "      <td>Blast off to ultimate comfort! Our ultra-soft,...</td>\n",
       "      <td>{\"id\":263,\"name\":\"Apparel\",\"analytics_name\":\"A...</td>\n",
       "      <td>3725.0</td>\n",
       "      <td>US</td>\n",
       "      <td>the United States</td>\n",
       "      <td>1742177090</td>\n",
       "      <td>{\"id\":1687410377,\"name\":\"Your Little Space\",\"s...</td>\n",
       "      <td>USD</td>\n",
       "      <td>$</td>\n",
       "      <td>...</td>\n",
       "      <td>True</td>\n",
       "      <td>False</td>\n",
       "      <td>successful</td>\n",
       "      <td>1744772742</td>\n",
       "      <td>1.0</td>\n",
       "      <td>{\"web\":{\"project\":\"https://www.kickstarter.com...</td>\n",
       "      <td>1.0</td>\n",
       "      <td>3725.0</td>\n",
       "      <td>domestic</td>\n",
       "      <td>{\"id\":1349034,\"status\":\"successful\",\"hls\":\"htt...</td>\n",
       "    </tr>\n",
       "  </tbody>\n",
       "</table>\n",
       "<p>5 rows × 42 columns</p>\n",
       "</div>"
      ],
      "text/plain": [
       "   backers_count                                              blurb  \\\n",
       "0              5  Our studio is recreating the magic of live act...   \n",
       "1             14  We bring music to small and rural communities ...   \n",
       "2             21  A live performance and recording of Frank La R...   \n",
       "3              0  A dice tray designed to keep your dice, minis,...   \n",
       "4             29  Blast off to ultimate comfort! Our ultra-soft,...   \n",
       "\n",
       "                                            category  \\\n",
       "0  {\"id\":296,\"name\":\"Fantasy\",\"analytics_name\":\"F...   \n",
       "1  {\"id\":36,\"name\":\"Classical Music\",\"analytics_n...   \n",
       "2  {\"id\":36,\"name\":\"Classical Music\",\"analytics_n...   \n",
       "3  {\"id\":34,\"name\":\"Tabletop Games\",\"analytics_na...   \n",
       "4  {\"id\":263,\"name\":\"Apparel\",\"analytics_name\":\"A...   \n",
       "\n",
       "   converted_pledged_amount country country_displayable_name  created_at  \\\n",
       "0                     111.0      US        the United States  1480228717   \n",
       "1                    2095.0      US        the United States  1304528160   \n",
       "2                    1790.0      US        the United States  1304030379   \n",
       "3                       NaN      AU                Australia  1735360463   \n",
       "4                    3725.0      US        the United States  1742177090   \n",
       "\n",
       "                                             creator currency currency_symbol  \\\n",
       "0  {\"id\":982903897,\"name\":\"Kip Legaard\",\"is_regis...      USD               $   \n",
       "1  {\"id\":15712989,\"name\":\"Washington's Camerata\",...      USD               $   \n",
       "2  {\"id\":528561520,\"name\":\"Composers, Inc.\",\"is_r...      USD               $   \n",
       "3  {\"id\":1501411668,\"name\":\"Sphinx Stationery\",\"s...      AUD               $   \n",
       "4  {\"id\":1687410377,\"name\":\"Your Little Space\",\"s...      USD               $   \n",
       "\n",
       "   ...  spotlight staff_pick       state  state_changed_at  static_usd_rate  \\\n",
       "0  ...      False      False      failed        1490669054              1.0   \n",
       "1  ...       True      False  successful        1312307333              1.0   \n",
       "2  ...       True      False  successful        1308692950              1.0   \n",
       "3  ...      False      False   submitted        1735617155              0.0   \n",
       "4  ...       True      False  successful        1744772742              1.0   \n",
       "\n",
       "                                                urls  usd_exchange_rate  \\\n",
       "0  {\"web\":{\"project\":\"https://www.kickstarter.com...                1.0   \n",
       "1  {\"web\":{\"project\":\"https://www.kickstarter.com...                1.0   \n",
       "2  {\"web\":{\"project\":\"https://www.kickstarter.com...                1.0   \n",
       "3  {\"web\":{\"project\":\"https://www.kickstarter.com...                NaN   \n",
       "4  {\"web\":{\"project\":\"https://www.kickstarter.com...                1.0   \n",
       "\n",
       "   usd_pledged  usd_type                                              video  \n",
       "0        111.0  domestic  {\"id\":754346,\"status\":\"successful\",\"hls\":null,...  \n",
       "1       2095.0  domestic  {\"id\":34838,\"status\":\"successful\",\"hls\":null,\"...  \n",
       "2       1790.0  domestic                                                NaN  \n",
       "3          NaN  domestic                                                NaN  \n",
       "4       3725.0  domestic  {\"id\":1349034,\"status\":\"successful\",\"hls\":\"htt...  \n",
       "\n",
       "[5 rows x 42 columns]"
      ]
     },
     "execution_count": 2,
     "metadata": {},
     "output_type": "execute_result"
    }
   ],
   "source": [
    "df = pd.concat(pandas_files,axis=0)\n",
    "print(\"Tamaño del dataset: \",df.shape)\n",
    "df.head()"
   ]
  },
  {
   "cell_type": "code",
   "execution_count": 3,
   "id": "fde58656",
   "metadata": {},
   "outputs": [
    {
     "name": "stdout",
     "output_type": "stream",
     "text": [
      "name: Thogs Secret Forest - A live action fantasy puppet series\n",
      "percent_funded: 0.74\n",
      "photo: {\"key\":\"assets/015/643/737/aa0c8c9c930061c3a676f5100697d6be_original.jpg\",\"full\":\"https://i.kickstarter.com/assets/015/643/737/aa0c8c9c930061c3a676f5100697d6be_original.jpg?anim=false&fit=cover&gravity=auto&height=315&origin=ugc&q=92&v=1488078051&width=560&sig=H9cwZy9gXjiFXlprqyVsF6Tovd4iV20AHGzAp8f31G4%3D\",\"ed\":\"https://i.kickstarter.com/assets/015/643/737/aa0c8c9c930061c3a676f5100697d6be_original.jpg?anim=false&fit=cover&gravity=auto&height=198&origin=ugc&q=92&v=1488078051&width=352&sig=YYRoPK%2FPD2k22VGCt2Oz4ols33vF2IVqU95VridahaM%3D\",\"med\":\"https://i.kickstarter.com/assets/015/643/737/aa0c8c9c930061c3a676f5100697d6be_original.jpg?anim=false&fit=cover&gravity=auto&height=153&origin=ugc&q=92&v=1488078051&width=272&sig=ukZggPGqZkTRTVvlFx8vJG5Mq%2FZ1zVZ5ntZoYeRXc3Y%3D\",\"little\":\"https://i.kickstarter.com/assets/015/643/737/aa0c8c9c930061c3a676f5100697d6be_original.jpg?anim=false&fit=cover&gravity=auto&height=117&origin=ugc&q=92&v=1488078051&width=208&sig=b%2BiFLZQwfDfxCWMKX7JvaeSjYuJnHysDqpOxNfqq2Kc%3D\",\"small\":\"https://i.kickstarter.com/assets/015/643/737/aa0c8c9c930061c3a676f5100697d6be_original.jpg?anim=false&fit=cover&gravity=auto&height=90&origin=ugc&q=92&v=1488078051&width=160&sig=XynWL90pXU8UYprR1N1GmK5BaF%2FrIhOns7%2BvBCovg8U%3D\",\"thumb\":\"https://i.kickstarter.com/assets/015/643/737/aa0c8c9c930061c3a676f5100697d6be_original.jpg?anim=false&fit=cover&gravity=auto&height=27&origin=ugc&q=92&v=1488078051&width=48&sig=jIXmD9G%2Fo%2Fzs4KN0pPs0ee4kQdrnjf7H8FZCFf6xCW4%3D\",\"1024x576\":\"https://i.kickstarter.com/assets/015/643/737/aa0c8c9c930061c3a676f5100697d6be_original.jpg?anim=false&fit=cover&gravity=auto&height=576&origin=ugc&q=92&v=1488078051&width=1024&sig=1k5Tp0TihGwHCnEWRnBsDqXUPZ1j3fLOz8sU7v0DQo0%3D\",\"1536x864\":\"https://i.kickstarter.com/assets/015/643/737/aa0c8c9c930061c3a676f5100697d6be_original.jpg?anim=false&fit=cover&gravity=auto&height=873&origin=ugc&q=92&v=1488078051&width=1552&sig=6REJ%2FvRGNWMBmqCtabeLIG2w65FZqFKVYcQWBq6cH%2Fo%3D\"}\n",
      "pledged: 111.0\n",
      "prelaunch_activated: False\n",
      "profile: {\"id\":2775928,\"project_id\":2775928,\"state\":\"inactive\",\"state_changed_at\":1480228717,\"name\":null,\"blurb\":null,\"background_color\":null,\"text_color\":null,\"link_background_color\":null,\"link_text_color\":null,\"link_text\":null,\"link_url\":null,\"show_feature_image\":false,\"background_image_opacity\":0.8,\"should_show_feature_image_section\":true,\"feature_image_attributes\":{\"image_urls\":{\"default\":\"https://i.kickstarter.com/assets/015/643/737/aa0c8c9c930061c3a676f5100697d6be_original.jpg?anim=false&fit=cover&gravity=auto&height=873&origin=ugc&q=92&v=1488078051&width=1552&sig=6REJ%2FvRGNWMBmqCtabeLIG2w65FZqFKVYcQWBq6cH%2Fo%3D\",\"baseball_card\":\"https://i.kickstarter.com/assets/015/643/737/aa0c8c9c930061c3a676f5100697d6be_original.jpg?anim=false&fit=cover&gravity=auto&height=315&origin=ugc&q=92&v=1488078051&width=560&sig=H9cwZy9gXjiFXlprqyVsF6Tovd4iV20AHGzAp8f31G4%3D\"}}}\n",
      "slug: thogs-secret-forest-a-live-action-fantasy-puppet-s\n",
      "source_url: https://www.kickstarter.com/discover/categories/film%20&%20video/fantasy\n",
      "spotlight: False\n",
      "staff_pick: False\n",
      "state: failed\n",
      "state_changed_at: 1490669054\n",
      "static_usd_rate: 1.0\n",
      "urls: {\"web\":{\"project\":\"https://www.kickstarter.com/projects/982903897/thogs-secret-forest-a-live-action-fantasy-puppet-s\",\"rewards\":\"https://www.kickstarter.com/projects/982903897/thogs-secret-forest-a-live-action-fantasy-puppet-s/rewards\"}}\n",
      "usd_exchange_rate: 1.0\n",
      "usd_pledged: 111.0\n",
      "usd_type: domestic\n",
      "video: {\"id\":754346,\"status\":\"successful\",\"hls\":null,\"hls_type\":null,\"high\":\"https://v2.kickstarter.com/1747005662-x9DfNWWhapzYC%2FCcPFKUAmqEollZ%2BwbEIAB8z0dV4BQ%3D/projects/2736442/video-754346-h264_high.mp4\",\"high_type\":\"video/mp4; codecs=\"avc1.64001E, mp4a.40.2\"\",\"base\":\"https://v2.kickstarter.com/1747005662-x9DfNWWhapzYC%2FCcPFKUAmqEollZ%2BwbEIAB8z0dV4BQ%3D/projects/2736442/video-754346-h264_base.mp4\",\"base_type\":\"video/mp4; codecs=\"avc1.42E01E, mp4a.40.2\"\",\"tracks\":\"[]\",\"width\":640,\"height\":360,\"frame\":\"https://d15chbti7ht62o.cloudfront.net/projects/2736442/video-754346-h264_high.jpg?2017\"}\n"
     ]
    }
   ],
   "source": [
    "columns = df.columns[24:]\n",
    "ejemplo = df.iloc[0]\n",
    "for column in columns: \n",
    "    print(f\"{column}: {ejemplo[column]}\")\n"
   ]
  },
  {
   "cell_type": "code",
   "execution_count": 4,
   "id": "49ec1a0a",
   "metadata": {},
   "outputs": [
    {
     "name": "stdout",
     "output_type": "stream",
     "text": [
      "['Fantasy' 'Classical Music' 'Tabletop Games' 'Apparel' 'Painting'\n",
      " 'Fine Art' 'Zines' 'Video Games' 'Playing Cards' 'Accessories' 'Metal'\n",
      " 'Periodicals' 'Food Trucks' 'Stationery' 'Graphic Design' 'Digital Art'\n",
      " 'Product Design' 'Toys' 'Footwear' 'Space Exploration' 'Nonfiction'\n",
      " 'Fiction' \"Children's Books\" 'DIY' 'Faith' 'Sculpture' 'Camera Equipment'\n",
      " 'Art Books' 'Romance' 'Conceptual Art' 'Academic' 'Poetry'\n",
      " 'Narrative Film' 'Illustration' 'Drama' 'Television' 'Comedy'\n",
      " 'Gaming Hardware' 'Woodworking' 'Apps' 'Software' 'Performance Art'\n",
      " 'Gadgets' 'Country & Folk' 'Horror' 'Robots' 'Web' 'People' 'Technology'\n",
      " 'Hardware' '3D Printing' 'Wearables' 'Installations' 'Electronic Music'\n",
      " 'Science Fiction' 'DIY Electronics' 'Shorts' 'Fabrication Tools'\n",
      " 'Photobooks' 'Webseries' 'Animation' 'Jazz' 'Places' 'Action' 'Printing'\n",
      " 'Sound' 'World Music' 'Spaces' 'Experimental' 'Art' 'Documentary'\n",
      " 'Public Art' 'Crafts' 'Pop' 'Rock' 'Music Videos' 'Knitting' 'Embroidery'\n",
      " 'Mobile Games' 'Indie Rock' 'Live Games' 'Blues' 'Hip-Hop' 'R&B' 'Design'\n",
      " 'Anthologies' 'Graphic Novels' 'Cookbooks' 'Photo' 'Webcomics'\n",
      " 'Literary Spaces' 'Comic Books' 'Drinks' 'Audio' 'Events' 'Plays'\n",
      " 'Musical' 'Young Adult' 'Literary Journals' 'Festivals' 'Print'\n",
      " 'Performances' 'Makerspaces' 'Architecture' 'Video' 'Dance' 'Workshops'\n",
      " 'Latin' 'Residencies' 'Journalism' 'Thrillers' 'Kids' 'Food'\n",
      " 'Restaurants' 'Small Batch' 'Farms' 'Vegan' 'Civic Design' 'Calendars'\n",
      " 'Textiles' 'Theater' 'Crochet' 'Glass' 'Publishing' 'Interactive Design'\n",
      " 'Typography' 'Animals' 'Music' 'Jewelry' 'Childrenswear' 'Nature'\n",
      " 'Photography' 'Pet Fashion' 'Mixed Media' 'Ready-to-wear' 'Comics'\n",
      " 'Couture' 'Immersive' 'Radio & Podcasts' 'Movie Theaters' 'Family'\n",
      " 'Candles' 'Quilts' 'Film & Video' 'Video Art' 'Translations'\n",
      " 'Social Practice' 'Punk' 'Community Gardens' 'Flight' 'Puzzles' 'Pottery'\n",
      " 'Games' 'Ceramics' 'Weaving' \"Farmer's Markets\" 'Letterpress' 'Bacon'\n",
      " 'Chiptune' 'Taxidermy' 'Fashion']\n"
     ]
    }
   ],
   "source": [
    "import json\n",
    "\n",
    "df['category_name'] = df['category'].apply(lambda x: json.loads(x)[\"name\"])\n",
    "\n",
    "unique_categories = df['category_name'].unique()\n",
    "\n",
    "print(unique_categories)"
   ]
  },
  {
   "cell_type": "code",
   "execution_count": 5,
   "id": "32b29a2a",
   "metadata": {},
   "outputs": [
    {
     "name": "stdout",
     "output_type": "stream",
     "text": [
      "Total de proyectos con staff_pick=True: 230\n"
     ]
    },
    {
     "name": "stderr",
     "output_type": "stream",
     "text": [
      "C:\\Users\\bugy1\\AppData\\Local\\Temp\\ipykernel_9720\\2485427629.py:1: DeprecationWarning: DataFrameGroupBy.apply operated on the grouping columns. This behavior is deprecated, and in a future version of pandas the grouping columns will be excluded from the operation. Either pass `include_groups=False` to exclude the groupings or explicitly select the grouping columns after groupby to silence this warning.\n",
      "  samples_per_category = df.groupby('category_name', group_keys=False).apply(\n"
     ]
    },
    {
     "data": {
      "text/html": [
       "<div>\n",
       "<style scoped>\n",
       "    .dataframe tbody tr th:only-of-type {\n",
       "        vertical-align: middle;\n",
       "    }\n",
       "\n",
       "    .dataframe tbody tr th {\n",
       "        vertical-align: top;\n",
       "    }\n",
       "\n",
       "    .dataframe thead th {\n",
       "        text-align: right;\n",
       "    }\n",
       "</style>\n",
       "<table border=\"1\" class=\"dataframe\">\n",
       "  <thead>\n",
       "    <tr style=\"text-align: right;\">\n",
       "      <th></th>\n",
       "      <th>category_name</th>\n",
       "      <th>blurb</th>\n",
       "      <th>name</th>\n",
       "      <th>backers_count</th>\n",
       "      <th>staff_pick</th>\n",
       "    </tr>\n",
       "  </thead>\n",
       "  <tbody>\n",
       "    <tr>\n",
       "      <th>8</th>\n",
       "      <td>3D Printing</td>\n",
       "      <td>Organize anything with our innovative 3D print...</td>\n",
       "      <td>Thread Boards 2.0 | 3D printable peg boards wi...</td>\n",
       "      <td>2389</td>\n",
       "      <td>True</td>\n",
       "    </tr>\n",
       "    <tr>\n",
       "      <th>53</th>\n",
       "      <td>Animation</td>\n",
       "      <td>Alyson confronts her perfectionism as she stru...</td>\n",
       "      <td>Alyssum - A 2D Animated Short Film</td>\n",
       "      <td>75</td>\n",
       "      <td>True</td>\n",
       "    </tr>\n",
       "    <tr>\n",
       "      <th>55</th>\n",
       "      <td>Animation</td>\n",
       "      <td>A boy wonders if there might be other people l...</td>\n",
       "      <td>Is There Anyone Out There?</td>\n",
       "      <td>140</td>\n",
       "      <td>True</td>\n",
       "    </tr>\n",
       "    <tr>\n",
       "      <th>56</th>\n",
       "      <td>Animation</td>\n",
       "      <td>This will be the world's first feature-length ...</td>\n",
       "      <td>Loving Vincent Film - bring Van Gogh paintings...</td>\n",
       "      <td>796</td>\n",
       "      <td>True</td>\n",
       "    </tr>\n",
       "    <tr>\n",
       "      <th>57</th>\n",
       "      <td>Animation</td>\n",
       "      <td>A student animated musical short in which a ha...</td>\n",
       "      <td>Hamstercide: An Animated Musical Short</td>\n",
       "      <td>26</td>\n",
       "      <td>True</td>\n",
       "    </tr>\n",
       "  </tbody>\n",
       "</table>\n",
       "</div>"
      ],
      "text/plain": [
       "   category_name                                              blurb  \\\n",
       "8    3D Printing  Organize anything with our innovative 3D print...   \n",
       "53     Animation  Alyson confronts her perfectionism as she stru...   \n",
       "55     Animation  A boy wonders if there might be other people l...   \n",
       "56     Animation  This will be the world's first feature-length ...   \n",
       "57     Animation  A student animated musical short in which a ha...   \n",
       "\n",
       "                                                 name  backers_count  \\\n",
       "8   Thread Boards 2.0 | 3D printable peg boards wi...           2389   \n",
       "53                 Alyssum - A 2D Animated Short Film             75   \n",
       "55                         Is There Anyone Out There?            140   \n",
       "56  Loving Vincent Film - bring Van Gogh paintings...            796   \n",
       "57             Hamstercide: An Animated Musical Short             26   \n",
       "\n",
       "    staff_pick  \n",
       "8         True  \n",
       "53        True  \n",
       "55        True  \n",
       "56        True  \n",
       "57        True  "
      ]
     },
     "execution_count": 5,
     "metadata": {},
     "output_type": "execute_result"
    }
   ],
   "source": [
    "\n",
    "samples_per_category = df.groupby('category_name', group_keys=False).apply(\n",
    "    lambda x: x.sample(n=min(10, len(x)), random_state=42)).reset_index(drop=True)  # Reset index aquí\n",
    "\n",
    "samples_per_category_ok = samples_per_category[samples_per_category['staff_pick'] == True]  # Sin comillas!\n",
    "\n",
    "df_categorias = samples_per_category_ok[['category_name', 'blurb', 'name', 'backers_count', 'staff_pick']]\n",
    "\n",
    "print(f\"Total de proyectos con staff_pick=True: {len(df_categorias)}\")\n",
    "df_categorias.head()"
   ]
  },
  {
   "cell_type": "code",
   "execution_count": 6,
   "id": "62ef5d13",
   "metadata": {},
   "outputs": [],
   "source": [
    "# Exportar df_categorias a un json \n",
    "df_categorias.to_json('data_cleaned.json')"
   ]
  },
  {
   "cell_type": "code",
   "execution_count": 7,
   "id": "3cfea68c",
   "metadata": {},
   "outputs": [
    {
     "name": "stderr",
     "output_type": "stream",
     "text": [
      "c:\\Users\\bugy1\\OneDrive\\Escritorio\\articulo_python\\.venv\\Lib\\site-packages\\tqdm\\auto.py:21: TqdmWarning: IProgress not found. Please update jupyter and ipywidgets. See https://ipywidgets.readthedocs.io/en/stable/user_install.html\n",
      "  from .autonotebook import tqdm as notebook_tqdm\n"
     ]
    },
    {
     "name": "stdout",
     "output_type": "stream",
     "text": [
      "(3, 384)\n",
      "tensor([[1.0000, 0.6660, 0.1046],\n",
      "        [0.6660, 1.0000, 0.1411],\n",
      "        [0.1046, 0.1411, 1.0000]])\n"
     ]
    }
   ],
   "source": [
    "from sentence_transformers import SentenceTransformer\n",
    "\n",
    "# 1. Load a pretrained Sentence Transformer model\n",
    "model = SentenceTransformer(\"all-MiniLM-L6-v2\")\n",
    "\n",
    "# The sentences to encode\n",
    "sentences = [\n",
    "    \"The weather is lovely today.\",\n",
    "    \"It's so sunny outside!\",\n",
    "    \"He drove to the stadium.\",\n",
    "]\n",
    "\n",
    "# 2. Calculate embeddings by calling model.encode()\n",
    "embeddings = model.encode(sentences)\n",
    "print(embeddings.shape)\n",
    "# [3, 384]\n",
    "\n",
    "# 3. Calculate the embedding similarities\n",
    "similarities = model.similarity(embeddings, embeddings)\n",
    "print(similarities)\n",
    "# tensor([[1.0000, 0.6660, 0.1046],\n",
    "#         [0.6660, 1.0000, 0.1411],\n",
    "#         [0.1046, 0.1411, 1.0000]])"
   ]
  },
  {
   "cell_type": "markdown",
   "id": "d8bf7d8a",
   "metadata": {},
   "source": [
    "# Rouge: "
   ]
  },
  {
   "cell_type": "code",
   "execution_count": 8,
   "id": "a9b264dc",
   "metadata": {},
   "outputs": [
    {
     "name": "stdout",
     "output_type": "stream",
     "text": [
      "ROUGE-L Score:\n",
      "Precision:  0.083\n",
      "Recall:     0.083\n",
      "F1 Score:   0.083\n"
     ]
    }
   ],
   "source": [
    "from rouge_score import rouge_scorer\n",
    "\n",
    "# Textos a comparar\n",
    "original = \"Success is not about luck; it's about perseverance and hard work.\"\n",
    "generado = \"Achieving greatness doesn't depend on chance but on dedication and effort.\"\n",
    "\n",
    "# Crear el evaluador\n",
    "scorer = rouge_scorer.RougeScorer(['rougeL'], use_stemmer=True)\n",
    "\n",
    "# Calcular ROUGE-L\n",
    "scores = scorer.score(original, generado)\n",
    "\n",
    "print(\"ROUGE-L Score:\")\n",
    "print(f\"Precision:  {scores['rougeL'].precision:.3f}\")\n",
    "print(f\"Recall:     {scores['rougeL'].recall:.3f}\")\n",
    "print(f\"F1 Score:   {scores['rougeL'].fmeasure:.3f}\")\n"
   ]
  },
  {
   "cell_type": "markdown",
   "id": "5ab4b294",
   "metadata": {},
   "source": [
    "# BLEU : "
   ]
  },
  {
   "cell_type": "code",
   "execution_count": 9,
   "id": "6cd23ee0",
   "metadata": {},
   "outputs": [
    {
     "name": "stdout",
     "output_type": "stream",
     "text": [
      "BLEU Score: 0.023\n"
     ]
    }
   ],
   "source": [
    "from nltk.translate.bleu_score import sentence_bleu, SmoothingFunction\n",
    "\n",
    "# Textos\n",
    "original = \"Una plataforma para conectar pacientes con médicos mediante telemedicina.\"\n",
    "generado = \"Servicio que permite que doctores atiendan a pacientes en línea.\"\n",
    "\n",
    "# Tokenizar (BLEU trabaja con listas de palabras)\n",
    "ref = [original.lower().split()]   # referencia (lista de una lista)\n",
    "hyp = generado.lower().split()     # hipótesis (texto generado)\n",
    "\n",
    "# Calcular BLEU con suavizado\n",
    "smooth = SmoothingFunction().method4\n",
    "score = sentence_bleu(ref, hyp, smoothing_function=smooth)\n",
    "\n",
    "print(f\"BLEU Score: {score:.3f}\")\n"
   ]
  },
  {
   "cell_type": "markdown",
   "id": "502aa274",
   "metadata": {},
   "source": [
    "# Embeddings + Similitud coseno: "
   ]
  },
  {
   "cell_type": "code",
   "execution_count": 10,
   "id": "4292951a",
   "metadata": {},
   "outputs": [
    {
     "name": "stdout",
     "output_type": "stream",
     "text": [
      "Similitud semántica: 0.461\n"
     ]
    }
   ],
   "source": [
    "from sentence_transformers import SentenceTransformer, util\n",
    "\n",
    "texto1 = \"The best way to improve your dreams\"\n",
    "texto2 = \"The optimal approach to enhancing your aspirations.\"\n",
    "\n",
    "model = SentenceTransformer('all-MiniLM-L6-v2')\n",
    "embeddings = model.encode([texto1, texto2], convert_to_tensor=True)\n",
    "similaridad = util.pytorch_cos_sim(embeddings[0], embeddings[1]).item()\n",
    "\n",
    "print(f\"Similitud semántica: {similaridad:.3f}\")\n"
   ]
  },
  {
   "cell_type": "markdown",
   "id": "dc6b069d",
   "metadata": {},
   "source": [
    "# Meteor"
   ]
  },
  {
   "cell_type": "code",
   "execution_count": null,
   "id": "84952473",
   "metadata": {},
   "outputs": [
    {
     "name": "stderr",
     "output_type": "stream",
     "text": [
      "[nltk_data] Downloading package wordnet to\n",
      "[nltk_data]     C:\\Users\\bugy1\\AppData\\Roaming\\nltk_data...\n",
      "[nltk_data] Downloading package omw-1.4 to\n",
      "[nltk_data]     C:\\Users\\bugy1\\AppData\\Roaming\\nltk_data...\n"
     ]
    }
   ],
   "source": [
    "import nltk\n",
    "from nltk.translate.meteor_score import meteor_score\n",
    "\n",
    "# Descargar recursos necesarios de NLTK (solo primera vez)\n",
    "nltk.download('wordnet')\n",
    "nltk.download('omw-1.4')\n",
    "\n",
    "# Textos a comparar (pueden ser frases, títulos, descripciones, etc.)\n",
    "texto_referencia = \"A live action fantasy puppet series set in a magical forest\"\n",
    "texto_hipotesis = \"A fantasy series with puppets in a enchanted woodland\"\n",
    "\n",
    "# Tokenización (dividir en palabras)\n",
    "tokens_ref = nltk.word_tokenize(texto_referencia.lower())\n",
    "tokens_hip = nltk.word_tokenize(texto_hipotesis.lower())\n",
    "\n",
    "# Calcular puntuación METEOR (rango de 0 a 1)\n",
    "puntuacion = meteor_score([tokens_ref], tokens_hip)\n",
    "\n",
    "print(f\"Similitud semántica (METEOR): {puntuacion:.4f}\")"
   ]
  }
 ],
 "metadata": {
  "kernelspec": {
   "display_name": ".venv",
   "language": "python",
   "name": "python3"
  },
  "language_info": {
   "codemirror_mode": {
    "name": "ipython",
    "version": 3
   },
   "file_extension": ".py",
   "mimetype": "text/x-python",
   "name": "python",
   "nbconvert_exporter": "python",
   "pygments_lexer": "ipython3",
   "version": "3.12.7"
  }
 },
 "nbformat": 4,
 "nbformat_minor": 5
}
